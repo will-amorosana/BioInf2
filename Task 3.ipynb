{
 "cells": [
  {
   "cell_type": "code",
   "execution_count": 1,
   "metadata": {},
   "outputs": [],
   "source": [
    "import numpy as np\n",
    "import pandas as pd\n",
    "from matplotlib import pyplot as plt\n"
   ]
  },
  {
   "cell_type": "code",
   "execution_count": 4,
   "metadata": {},
   "outputs": [],
   "source": [
    "data = pd.read_csv('data/string_MCL_clusters.tsv', sep='\\t')"
   ]
  },
  {
   "cell_type": "code",
   "execution_count": 5,
   "metadata": {},
   "outputs": [
    {
     "data": {
      "text/plain": [
       "Index(['#clustering method', 'cluster number', 'cluster color', 'gene count',\n",
       "       'protein name', 'protein identifier', 'protein description'],\n",
       "      dtype='object')"
      ]
     },
     "execution_count": 5,
     "metadata": {},
     "output_type": "execute_result"
    }
   ],
   "source": [
    "data.columns"
   ]
  },
  {
   "cell_type": "code",
   "execution_count": 7,
   "metadata": {},
   "outputs": [],
   "source": [
    "cluster_1 = data['cluster number']==1\n",
    "cluster_2 = data['cluster number']==2\n"
   ]
  },
  {
   "cell_type": "code",
   "execution_count": 9,
   "metadata": {},
   "outputs": [],
   "source": [
    "data[cluster_1].to_csv('data/cluster_1.csv')"
   ]
  },
  {
   "cell_type": "code",
   "execution_count": 10,
   "metadata": {},
   "outputs": [],
   "source": [
    "data[cluster_2].to_csv('data/cluster_2.csv')"
   ]
  },
  {
   "cell_type": "code",
   "execution_count": 27,
   "metadata": {},
   "outputs": [],
   "source": [
    "#Load in the data and clean the percentages\n",
    "cluster_1 = pd.read_csv('data/panther_cluster_bio_1.txt', names=['index', 'Process', 'count', 'weird', 'percent'], sep='\\t')\n",
    "cluster_2 = pd.read_csv('data/panther_cluster_bio_2.txt', names=['index', 'Process', 'count', 'weird', 'percent'], sep='\\t')\n",
    "for i in [cluster_1,cluster_2]:\n",
    "    i['percent'] = i['percent'].str.rstrip('%').astype('float')"
   ]
  },
  {
   "cell_type": "code",
   "execution_count": 28,
   "metadata": {},
   "outputs": [
    {
     "data": {
      "text/plain": [
       "0     cellular component organization or biogenesis ...\n",
       "1                         cellular process (GO:0009987)\n",
       "2                   multi-organism process (GO:0051704)\n",
       "3                             localization (GO:0051179)\n",
       "4                    biological regulation (GO:0065007)\n",
       "5                     response to stimulus (GO:0050896)\n",
       "6                                 behavior (GO:0007610)\n",
       "7                                signaling (GO:0023052)\n",
       "8                    developmental process (GO:0032502)\n",
       "9         multicellular organismal process (GO:0032501)\n",
       "10                     biological adhesion (GO:0022610)\n",
       "11                       metabolic process (GO:0008152)\n",
       "12                                  growth (GO:0040007)\n",
       "Name: Process, dtype: object"
      ]
     },
     "execution_count": 28,
     "metadata": {},
     "output_type": "execute_result"
    }
   ],
   "source": [
    "cluster_1['Process']"
   ]
  },
  {
   "cell_type": "code",
   "execution_count": 29,
   "metadata": {},
   "outputs": [
    {
     "data": {
      "text/html": [
       "<div>\n",
       "<style scoped>\n",
       "    .dataframe tbody tr th:only-of-type {\n",
       "        vertical-align: middle;\n",
       "    }\n",
       "\n",
       "    .dataframe tbody tr th {\n",
       "        vertical-align: top;\n",
       "    }\n",
       "\n",
       "    .dataframe thead th {\n",
       "        text-align: right;\n",
       "    }\n",
       "</style>\n",
       "<table border=\"1\" class=\"dataframe\">\n",
       "  <thead>\n",
       "    <tr style=\"text-align: right;\">\n",
       "      <th></th>\n",
       "      <th>index</th>\n",
       "      <th>Process</th>\n",
       "      <th>count</th>\n",
       "      <th>weird</th>\n",
       "      <th>percent</th>\n",
       "    </tr>\n",
       "  </thead>\n",
       "  <tbody>\n",
       "    <tr>\n",
       "      <th>0</th>\n",
       "      <td>1</td>\n",
       "      <td>cellular component organization or biogenesis ...</td>\n",
       "      <td>9</td>\n",
       "      <td>20.5%</td>\n",
       "      <td>6.5</td>\n",
       "    </tr>\n",
       "    <tr>\n",
       "      <th>1</th>\n",
       "      <td>2</td>\n",
       "      <td>cellular process (GO:0009987)</td>\n",
       "      <td>25</td>\n",
       "      <td>56.8%</td>\n",
       "      <td>18.1</td>\n",
       "    </tr>\n",
       "    <tr>\n",
       "      <th>2</th>\n",
       "      <td>3</td>\n",
       "      <td>multi-organism process (GO:0051704)</td>\n",
       "      <td>2</td>\n",
       "      <td>4.5%</td>\n",
       "      <td>1.4</td>\n",
       "    </tr>\n",
       "    <tr>\n",
       "      <th>3</th>\n",
       "      <td>4</td>\n",
       "      <td>localization (GO:0051179)</td>\n",
       "      <td>15</td>\n",
       "      <td>34.1%</td>\n",
       "      <td>10.9</td>\n",
       "    </tr>\n",
       "    <tr>\n",
       "      <th>4</th>\n",
       "      <td>5</td>\n",
       "      <td>biological regulation (GO:0065007)</td>\n",
       "      <td>20</td>\n",
       "      <td>45.5%</td>\n",
       "      <td>14.5</td>\n",
       "    </tr>\n",
       "    <tr>\n",
       "      <th>5</th>\n",
       "      <td>6</td>\n",
       "      <td>response to stimulus (GO:0050896)</td>\n",
       "      <td>10</td>\n",
       "      <td>22.7%</td>\n",
       "      <td>7.2</td>\n",
       "    </tr>\n",
       "    <tr>\n",
       "      <th>6</th>\n",
       "      <td>7</td>\n",
       "      <td>behavior (GO:0007610)</td>\n",
       "      <td>2</td>\n",
       "      <td>4.5%</td>\n",
       "      <td>1.4</td>\n",
       "    </tr>\n",
       "    <tr>\n",
       "      <th>7</th>\n",
       "      <td>8</td>\n",
       "      <td>signaling (GO:0023052)</td>\n",
       "      <td>21</td>\n",
       "      <td>47.7%</td>\n",
       "      <td>15.2</td>\n",
       "    </tr>\n",
       "    <tr>\n",
       "      <th>8</th>\n",
       "      <td>9</td>\n",
       "      <td>developmental process (GO:0032502)</td>\n",
       "      <td>11</td>\n",
       "      <td>25.0%</td>\n",
       "      <td>8.0</td>\n",
       "    </tr>\n",
       "    <tr>\n",
       "      <th>9</th>\n",
       "      <td>10</td>\n",
       "      <td>multicellular organismal process (GO:0032501)</td>\n",
       "      <td>14</td>\n",
       "      <td>31.8%</td>\n",
       "      <td>10.1</td>\n",
       "    </tr>\n",
       "    <tr>\n",
       "      <th>10</th>\n",
       "      <td>11</td>\n",
       "      <td>biological adhesion (GO:0022610)</td>\n",
       "      <td>6</td>\n",
       "      <td>13.6%</td>\n",
       "      <td>4.3</td>\n",
       "    </tr>\n",
       "    <tr>\n",
       "      <th>11</th>\n",
       "      <td>12</td>\n",
       "      <td>metabolic process (GO:0008152)</td>\n",
       "      <td>1</td>\n",
       "      <td>2.3%</td>\n",
       "      <td>0.7</td>\n",
       "    </tr>\n",
       "    <tr>\n",
       "      <th>12</th>\n",
       "      <td>13</td>\n",
       "      <td>growth (GO:0040007)</td>\n",
       "      <td>2</td>\n",
       "      <td>4.5%</td>\n",
       "      <td>1.4</td>\n",
       "    </tr>\n",
       "  </tbody>\n",
       "</table>\n",
       "</div>"
      ],
      "text/plain": [
       "    index                                            Process  count  weird  \\\n",
       "0       1  cellular component organization or biogenesis ...      9  20.5%   \n",
       "1       2                      cellular process (GO:0009987)     25  56.8%   \n",
       "2       3                multi-organism process (GO:0051704)      2   4.5%   \n",
       "3       4                          localization (GO:0051179)     15  34.1%   \n",
       "4       5                 biological regulation (GO:0065007)     20  45.5%   \n",
       "5       6                  response to stimulus (GO:0050896)     10  22.7%   \n",
       "6       7                              behavior (GO:0007610)      2   4.5%   \n",
       "7       8                             signaling (GO:0023052)     21  47.7%   \n",
       "8       9                 developmental process (GO:0032502)     11  25.0%   \n",
       "9      10      multicellular organismal process (GO:0032501)     14  31.8%   \n",
       "10     11                   biological adhesion (GO:0022610)      6  13.6%   \n",
       "11     12                     metabolic process (GO:0008152)      1   2.3%   \n",
       "12     13                                growth (GO:0040007)      2   4.5%   \n",
       "\n",
       "    percent  \n",
       "0       6.5  \n",
       "1      18.1  \n",
       "2       1.4  \n",
       "3      10.9  \n",
       "4      14.5  \n",
       "5       7.2  \n",
       "6       1.4  \n",
       "7      15.2  \n",
       "8       8.0  \n",
       "9      10.1  \n",
       "10      4.3  \n",
       "11      0.7  \n",
       "12      1.4  "
      ]
     },
     "execution_count": 29,
     "metadata": {},
     "output_type": "execute_result"
    }
   ],
   "source": [
    "cluster_2"
   ]
  },
  {
   "cell_type": "code",
   "execution_count": 31,
   "metadata": {},
   "outputs": [
    {
     "name": "stderr",
     "output_type": "stream",
     "text": [
      "<ipython-input-31-5eadeb4f905f>:24: UserWarning: Matplotlib is currently using module://ipykernel.pylab.backend_inline, which is a non-GUI backend, so cannot show the figure.\n",
      "  fig.show()\n"
     ]
    },
    {
     "data": {
      "image/png": "[encoded data removed]",
      "text/plain": [
       "<Figure size 720x480 with 1 Axes>"
      ]
     },
     "metadata": {},
     "output_type": "display_data"
    }
   ],
   "source": [
    "labels = ['Cellular Component Org/Biogenesis','Cellular Process','Multi-organism process','Localization','Biological Regulation',\n",
    "         'Response to Stimulus','Behavior','Signaling','Developmental Process','Multicellular Organismal Process',\n",
    "         'Biological Adhesion','Metabolic Process','Growth',]\n",
    "\n",
    "\n",
    "c1_counts = cluster_1['percent'] \n",
    "c2_counts = cluster_2['percent']\n",
    "\n",
    "fig = plt.figure(num=None, figsize=(9, 6), dpi=80, facecolor='w', edgecolor='k')\n",
    "\n",
    "x = np.arange(len(labels))# the label locations\n",
    "width = 0.5  # the width of the bars\n",
    "\n",
    "rects1 = plt.bar(x - width/2, c1_counts, width, label='Cluster 1')\n",
    "rects2 = plt.bar(x + width/2, c2_counts, width, label='Cluster 2')\n",
    "# Add some text for labels, title and custom x-axis tick labels, etc.\n",
    "plt.ylabel('% of genes')\n",
    "plt.title('Gene Distribution per Cluster')\n",
    "plt.xticks(x, labels, rotation=90)\n",
    "plt.legend()\n",
    "# plt.margins(0.3)\n",
    "fig.subplots_adjust(bottom=0.4)\n",
    "\n",
    "fig.show()\n",
    "fig.savefig('imgs/3_2.pdf')"
   ]
  },
  {
   "cell_type": "code",
   "execution_count": null,
   "metadata": {},
   "outputs": [],
   "source": []
  }
 ],
 "metadata": {
  "kernelspec": {
   "display_name": "Python 3",
   "language": "python",
   "name": "python3"
  },
  "language_info": {
   "codemirror_mode": {
    "name": "ipython",
    "version": 3
   },
   "file_extension": ".py",
   "mimetype": "text/x-python",
   "name": "python",
   "nbconvert_exporter": "python",
   "pygments_lexer": "ipython3",
   "version": "3.8.6"
  }
 },
 "nbformat": 4,
 "nbformat_minor": 4
}
