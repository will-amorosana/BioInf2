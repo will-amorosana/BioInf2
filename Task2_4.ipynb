{
 "cells": [
  {
   "cell_type": "code",
   "execution_count": 24,
   "metadata": {},
   "outputs": [],
   "source": [
    "import pandas as pd\n",
    "import urllib as ul\n",
    "import numpy as np"
   ]
  },
  {
   "cell_type": "code",
   "execution_count": 37,
   "metadata": {},
   "outputs": [],
   "source": [
    "gs1 = pd.read_csv('data/sfari_go_gs1.csv', names=['Symbol','UID','GO_term'])\n",
    "gs2 = pd.read_csv('data/sfari_go_gs2.csv', names=['Symbol','UID','GO_term'])\n",
    "gs3 = pd.read_csv('data/sfari_go_gs3.csv', names=['Symbol','UID','GO_term'])\n",
    "go_dict = pd.read_csv('data/go_dict.csv', header=0)"
   ]
  },
  {
   "cell_type": "code",
   "execution_count": 38,
   "metadata": {},
   "outputs": [
    {
     "data": {
      "text/plain": [
       "'GO:0003841'"
      ]
     },
     "execution_count": 38,
     "metadata": {},
     "output_type": "execute_result"
    }
   ],
   "source": [
    "def id_by_term(term):\n",
    "    for i in go_dict.index:\n",
    "        if go_dict.at[i,\"GO_term\"]==term:\n",
    "            return go_dict.at[i,\"GO_ID\"]\n",
    "    \n",
    "id_by_term(\"1-acylglycerol-3-phosphate O-acyltransferase activity\")"
   ]
  },
  {
   "cell_type": "code",
   "execution_count": 40,
   "metadata": {},
   "outputs": [
    {
     "name": "stdout",
     "output_type": "stream",
     "text": [
      "2\n",
      "3\n",
      "4\n"
     ]
    }
   ],
   "source": [
    "groups = [gs1, gs2, gs3]\n",
    "tag = 1\n",
    "for i in groups:\n",
    "    column = i['GO_term']\n",
    "    counts = column.value_counts()\n",
    "    counts_df = pd.DataFrame(counts.head(10))\n",
    "    counts_df['Description'] = counts_df.index\n",
    "    counts_df['ID'] = np.array([id_by_term(term) for term in counts_df[\"Description\"]])\n",
    "    cols = ['ID', 'Description', 'GO_term']\n",
    "    counts_df= counts_df[cols]\n",
    "    counts_df.index = (np.arange(10) + 1)\n",
    "    counts_df.columns = ['GO Term ID', 'GO Term Description', 'GO Term Count']\n",
    "    counts_df.to_csv(\"data/gs\" + str(tag) + \"_counts.csv\")\n",
    "    tag+=1\n",
    "    print(tag)"
   ]
  },
  {
   "cell_type": "code",
   "execution_count": null,
   "metadata": {},
   "outputs": [],
   "source": []
  },
  {
   "cell_type": "code",
   "execution_count": 23,
   "metadata": {},
   "outputs": [
    {
     "data": {
      "text/html": [
       "<div>\n",
       "<style scoped>\n",
       "    .dataframe tbody tr th:only-of-type {\n",
       "        vertical-align: middle;\n",
       "    }\n",
       "\n",
       "    .dataframe tbody tr th {\n",
       "        vertical-align: top;\n",
       "    }\n",
       "\n",
       "    .dataframe thead th {\n",
       "        text-align: right;\n",
       "    }\n",
       "</style>\n",
       "<table border=\"1\" class=\"dataframe\">\n",
       "  <thead>\n",
       "    <tr style=\"text-align: right;\">\n",
       "      <th></th>\n",
       "      <th>GO Term ID</th>\n",
       "      <th>GO Term Description</th>\n",
       "      <th>GO Term Count</th>\n",
       "    </tr>\n",
       "  </thead>\n",
       "  <tbody>\n",
       "    <tr>\n",
       "      <th>1</th>\n",
       "      <td>GO:0005515</td>\n",
       "      <td>protein binding</td>\n",
       "      <td>330</td>\n",
       "    </tr>\n",
       "    <tr>\n",
       "      <th>2</th>\n",
       "      <td>GO:0005886</td>\n",
       "      <td>plasma membrane</td>\n",
       "      <td>245</td>\n",
       "    </tr>\n",
       "    <tr>\n",
       "      <th>3</th>\n",
       "      <td>GO:0005829</td>\n",
       "      <td>cytosol</td>\n",
       "      <td>193</td>\n",
       "    </tr>\n",
       "    <tr>\n",
       "      <th>4</th>\n",
       "      <td>GO:0005634</td>\n",
       "      <td>nucleus</td>\n",
       "      <td>163</td>\n",
       "    </tr>\n",
       "    <tr>\n",
       "      <th>5</th>\n",
       "      <td>GO:0005737</td>\n",
       "      <td>cytoplasm</td>\n",
       "      <td>148</td>\n",
       "    </tr>\n",
       "    <tr>\n",
       "      <th>6</th>\n",
       "      <td>GO:0005654</td>\n",
       "      <td>nucleoplasm</td>\n",
       "      <td>141</td>\n",
       "    </tr>\n",
       "    <tr>\n",
       "      <th>7</th>\n",
       "      <td>GO:0005887</td>\n",
       "      <td>integral component of plasma membrane</td>\n",
       "      <td>95</td>\n",
       "    </tr>\n",
       "    <tr>\n",
       "      <th>8</th>\n",
       "      <td>GO:0016021</td>\n",
       "      <td>integral component of membrane</td>\n",
       "      <td>88</td>\n",
       "    </tr>\n",
       "    <tr>\n",
       "      <th>9</th>\n",
       "      <td>GO:0016020</td>\n",
       "      <td>membrane</td>\n",
       "      <td>75</td>\n",
       "    </tr>\n",
       "    <tr>\n",
       "      <th>10</th>\n",
       "      <td>GO:0046872</td>\n",
       "      <td>metal ion binding</td>\n",
       "      <td>67</td>\n",
       "    </tr>\n",
       "  </tbody>\n",
       "</table>\n",
       "</div>"
      ],
      "text/plain": [
       "    GO Term ID                    GO Term Description  GO Term Count\n",
       "1   GO:0005515                        protein binding            330\n",
       "2   GO:0005886                        plasma membrane            245\n",
       "3   GO:0005829                                cytosol            193\n",
       "4   GO:0005634                                nucleus            163\n",
       "5   GO:0005737                              cytoplasm            148\n",
       "6   GO:0005654                            nucleoplasm            141\n",
       "7   GO:0005887  integral component of plasma membrane             95\n",
       "8   GO:0016021         integral component of membrane             88\n",
       "9   GO:0016020                               membrane             75\n",
       "10  GO:0046872                      metal ion binding             67"
      ]
     },
     "execution_count": 23,
     "metadata": {},
     "output_type": "execute_result"
    }
   ],
   "source": [
    "counts_df"
   ]
  },
  {
   "cell_type": "code",
   "execution_count": null,
   "metadata": {},
   "outputs": [],
   "source": []
  }
 ],
 "metadata": {
  "kernelspec": {
   "display_name": "Python 3",
   "language": "python",
   "name": "python3"
  },
  "language_info": {
   "codemirror_mode": {
    "name": "ipython",
    "version": 3
   },
   "file_extension": ".py",
   "mimetype": "text/x-python",
   "name": "python",
   "nbconvert_exporter": "python",
   "pygments_lexer": "ipython3",
   "version": "3.8.6"
  }
 },
 "nbformat": 4,
 "nbformat_minor": 4
}
